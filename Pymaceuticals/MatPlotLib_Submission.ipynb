{
 "cells": [
  {
   "cell_type": "markdown",
   "metadata": {},
   "source": [
    "## Observations and Insights"
   ]
  },
  {
   "cell_type": "markdown",
   "metadata": {},
   "source": [
    "* **Observation #1**\n",
    "* **Observation #2**\n",
    "* **Observation #3**"
   ]
  },
  {
   "cell_type": "code",
   "execution_count": null,
   "metadata": {},
   "outputs": [],
   "source": [
    "# Import Dependencies\n",
    "import pandas as pd\n",
    "import matplotlib.pyplot as plt\n",
    "import numpy as np\n",
    "import scipy.stats as st\n",
    "from scipy.stats import linregress"
   ]
  },
  {
   "cell_type": "markdown",
   "metadata": {},
   "source": [
    "## Read CSVs and Merge DataFrames"
   ]
  },
  {
   "cell_type": "code",
   "execution_count": null,
   "metadata": {},
   "outputs": [],
   "source": [
    "# Define a path to the required data files\n",
    "mouse_data_path = 'data/Mouse_metadata.csv'\n",
    "study_results_path = 'data/Study_results.csv'"
   ]
  },
  {
   "cell_type": "code",
   "execution_count": null,
   "metadata": {},
   "outputs": [],
   "source": [
    "# Use Pandas to read in the csv files\n",
    "mouse_data = pd.read_csv(mouse_data_path)\n",
    "study_results = pd.read_csv(study_results_path)"
   ]
  },
  {
   "cell_type": "code",
   "execution_count": null,
   "metadata": {},
   "outputs": [],
   "source": [
    "# Merge the csv files on a common column so we have one dataset to work with and display the DataFrame\n",
    "mouse_results_df = pd.merge(mouse_data, study_results, on = 'Mouse ID')\n",
    "mouse_results_df"
   ]
  },
  {
   "cell_type": "markdown",
   "metadata": {},
   "source": [
    "## Clean the Data- Remove Duplicates"
   ]
  },
  {
   "cell_type": "code",
   "execution_count": null,
   "metadata": {},
   "outputs": [],
   "source": [
    "# Find the number of mice in the merged dataset\n",
    "mice_count = len(mouse_results_df['Mouse ID'].unique())\n",
    "mice_count"
   ]
  },
  {
   "cell_type": "code",
   "execution_count": null,
   "metadata": {},
   "outputs": [],
   "source": [
    "# Find the duplicate Mouse IDs using duplicated and df.loc functions\n",
    "duplicates = mouse_results_df.loc[mouse_results_df.duplicated(subset=['Mouse ID','Timepoint']),'Mouse ID'].unique()\n",
    "duplicates\n",
    "\n",
    "# Display the data for the duplicated Mouse IDs- based on the DataFrame, we should have five fewer rows in the cleaned DataFrame\n",
    "display_duplicates = mouse_results_df.loc[mouse_results_df['Mouse ID'] == 'g989',:]\n",
    "display_duplicates"
   ]
  },
  {
   "cell_type": "code",
   "execution_count": null,
   "metadata": {},
   "outputs": [],
   "source": [
    "# Remove duplicate Mouse IDS by removing those IDs with duplicate timepoints \n",
    "reduced_mice_df = mouse_results_df.drop_duplicates(subset=['Mouse ID','Timepoint'],keep = 'first')\n",
    "reduced_mice_df"
   ]
  },
  {
   "cell_type": "code",
   "execution_count": null,
   "metadata": {},
   "outputs": [],
   "source": [
    "# Check the number of mice in the cleaned reduced_mice_df DataFrame remained the same\n",
    "reduced_mice_count = len(reduced_mice_df['Mouse ID'].unique())\n",
    "reduced_mice_count"
   ]
  },
  {
   "cell_type": "markdown",
   "metadata": {},
   "source": [
    "## Summary Statistics"
   ]
  },
  {
   "cell_type": "markdown",
   "metadata": {},
   "source": [
    "### Summary Statistics Table using Groupby and DataSeries"
   ]
  },
  {
   "cell_type": "code",
   "execution_count": null,
   "metadata": {},
   "outputs": [],
   "source": [
    "# Create a groupby object based on 'Drug Regimen'\n",
    "drug_regimen_grouped = reduced_mice_df.groupby('Drug Regimen')"
   ]
  },
  {
   "cell_type": "code",
   "execution_count": null,
   "metadata": {},
   "outputs": [],
   "source": [
    "# Calculate the mean of the 'Tumor Volume' from the regimen_grouped Groupby object\n",
    "drug_regimen_mean = drug_regimen_grouped['Tumor Volume (mm3)'].mean()\n",
    "drug_regimen_mean"
   ]
  },
  {
   "cell_type": "code",
   "execution_count": null,
   "metadata": {},
   "outputs": [],
   "source": [
    "# Calculate the median of the 'Tumor Volume' from the regimen_grouped Groupby object\n",
    "drug_regimen_median = drug_regimen_grouped['Tumor Volume (mm3)'].median()\n",
    "drug_regimen_median"
   ]
  },
  {
   "cell_type": "code",
   "execution_count": null,
   "metadata": {},
   "outputs": [],
   "source": [
    "# Calculate the variance of the 'Tumor Volume' from the regimen_grouped Groupby object\n",
    "drug_regimen_var = drug_regimen_grouped['Tumor Volume (mm3)'].var()\n",
    "drug_regimen_var"
   ]
  },
  {
   "cell_type": "code",
   "execution_count": null,
   "metadata": {},
   "outputs": [],
   "source": [
    "# Calculate the standard deviation of the 'Tumor Volume' from the regimen_grouped Groupby object\n",
    "drug_regimen_stdev = drug_regimen_grouped['Tumor Volume (mm3)'].std()\n",
    "drug_regimen_stdev"
   ]
  },
  {
   "cell_type": "code",
   "execution_count": null,
   "metadata": {},
   "outputs": [],
   "source": [
    "# Calculate the standard error of the 'Tumor Volume' from the regimen_grouped Groupby object\n",
    "drug_regimen_sem = drug_regimen_grouped['Tumor Volume (mm3)'].sem(ddof = 1)\n",
    "drug_regimen_sem"
   ]
  },
  {
   "cell_type": "code",
   "execution_count": null,
   "metadata": {},
   "outputs": [],
   "source": [
    "# Create a summary statistics DataFrame for Tumor Volume by Drug Regimen with the statistics above; round the statistics to two decimal places\n",
    "summary_df_one = pd.DataFrame({'Mean': round(drug_regimen_mean,2), \n",
    "                               'Median': round(drug_regimen_median,2),\n",
    "                               'Variance': round(drug_regimen_var,2), \n",
    "                               'St. Deviation': round(drug_regimen_stdev,2), \n",
    "                               'St. Error': round(drug_regimen_sem,2)})\n",
    "summary_df_one"
   ]
  },
  {
   "cell_type": "markdown",
   "metadata": {},
   "source": [
    "### Summary Statistics Table using Aggregeation Method"
   ]
  },
  {
   "cell_type": "code",
   "execution_count": null,
   "metadata": {},
   "outputs": [],
   "source": [
    "# Create a summary statistics DataFrame for Tumor Volume by Drug Regimen using the aggregation method\n",
    "summary_df_two = drug_regimen_grouped['Tumor Volume (mm3)'].aggregate(['mean','median','var','std','sem'])\n",
    "summary_df_two"
   ]
  },
  {
   "cell_type": "code",
   "execution_count": null,
   "metadata": {},
   "outputs": [],
   "source": [
    "# Rename columns and round data points in the summary_df_two DataFrame\n",
    "summary_df_two['mean'] = round(summary_df_two['mean'],2)\n",
    "summary_df_two['median'] = round(summary_df_two['median'],2)\n",
    "summary_df_two['var'] = round(summary_df_two['var'],2)\n",
    "summary_df_two['std'] = round(summary_df_two['std'],2)\n",
    "summary_df_two['sem'] = round(summary_df_two['sem'],2)\n",
    "\n",
    "summary_df_two = summary_df_two.rename(columns={'mean': 'Mean', 'median': 'Median', \n",
    "                                                'var':'Variance', 'std': 'St. Deviation', 'sem': 'St. Error'})\n",
    "summary_df_two"
   ]
  },
  {
   "cell_type": "markdown",
   "metadata": {},
   "source": [
    "## Bar and Pie Charts"
   ]
  },
  {
   "cell_type": "markdown",
   "metadata": {},
   "source": [
    "### Timepoints per Drug Regimen Bar Chart (Pandas)"
   ]
  },
  {
   "cell_type": "code",
   "execution_count": null,
   "metadata": {},
   "outputs": [],
   "source": [
    "# Create a 'Drug Regimen' Data Series to plot\n",
    "drug_regimen = drug_regimen_grouped['Timepoint'].count()\n",
    "drug_regimen"
   ]
  },
  {
   "cell_type": "code",
   "execution_count": null,
   "metadata": {},
   "outputs": [],
   "source": [
    "# Plot the 'Drug Regimen' DataSeries above using Pandas to visually show the total number of timepoints for all mice tested for each drug regimen\n",
    "bar_chartpd = drug_regimen.plot(kind = 'bar', color = 'navy', alpha = 1, figsize = (7.5,6), rot = 45, width = 0.6)\n",
    "\n",
    "# Add chart title and axes labels\n",
    "bar_chartpd.set_title('Total Timepoints per Drug Regimen', fontsize = 15)\n",
    "bar_chartpd.set_xlabel('Drug Regimen')\n",
    "bar_chartpd.set_ylabel('Number of Timepoints')\n",
    "\n",
    "# Add limits to the x- and y-axis boundaries\n",
    "bar_chartpd.set_xlim(-0.75, len(drug_regimen)-0.25)\n",
    "bar_chartpd.set_ylim(0, max(drug_regimen)+20)\n",
    "\n",
    "# Diplay the chart\n",
    "plt.show()"
   ]
  },
  {
   "cell_type": "markdown",
   "metadata": {},
   "source": [
    "### Timepoints per Drug Regimen Bar Chart (Matplotlib)"
   ]
  },
  {
   "cell_type": "code",
   "execution_count": null,
   "metadata": {},
   "outputs": [],
   "source": [
    "# Define the data for the x- and y-axis\n",
    "x_axis = np.arange(len(drug_regimen))\n",
    "y_axis = drug_regimen\n",
    "\n",
    "# Define the x-axis tick marks for the bar chart and their location\n",
    "xticks = [drug_regimen.index.values]\n",
    "tick_locations = [x for x in x_axis]"
   ]
  },
  {
   "cell_type": "code",
   "execution_count": null,
   "metadata": {
    "scrolled": false
   },
   "outputs": [],
   "source": [
    "# Plot the total number of timepoints for all mice tested for each drug regimen using Matplotlib and the x- and y-axis definitions above\n",
    "plt.figure(figsize = (7.5,6))\n",
    "bar_chartplt = plt.bar(x_axis, y_axis, color = 'navy', alpha = 1, align = 'center', width = 0.6)\n",
    "\n",
    "# Add chart title and axis labels\n",
    "plt.title('Total Timepoints per Drug Regimen', fontsize =15)\n",
    "plt.xlabel('Drug Regimen')\n",
    "plt.ylabel('Number of Timepoints')\n",
    "\n",
    "# Add correct labels to x-axis and set rotation\n",
    "plt.xticks(tick_locations, drug_regimen.index, rotation = 45)\n",
    "\n",
    "# Add limits to the x- and y-axis boundaries\n",
    "plt.xlim(-0.75, len(drug_regimen)-0.25)\n",
    "plt.ylim(0, max(drug_regimen)+20)\n",
    "\n",
    "plt.show()"
   ]
  },
  {
   "cell_type": "markdown",
   "metadata": {},
   "source": [
    "### Female vs. Male Pie Chart (Pandas)"
   ]
  },
  {
   "cell_type": "code",
   "execution_count": null,
   "metadata": {
    "scrolled": true
   },
   "outputs": [],
   "source": [
    "# Create a Groupby object based on 'Sex' and count the number of mice in the two categories using the .count() function\n",
    "mice_gender = reduced_mice_df.groupby('Sex')['Mouse ID'].count()\n",
    "mice_gender"
   ]
  },
  {
   "cell_type": "code",
   "execution_count": null,
   "metadata": {},
   "outputs": [],
   "source": [
    "# Plot the Gender Data Series above using Pandas to show the gender distribution of mice tested\n",
    "colors = ['deeppink', 'royalblue']\n",
    "explode = [0.05,0]\n",
    "pie_chartpd = mice_gender.plot(kind = 'pie', y = mice_gender, colors = colors, explode = explode,\n",
    "                               labels = ['',''], autopct=\"%0.2f%%\", shadow=True, startangle=90, fontsize = 12)\n",
    "\n",
    "# Remove the ylabel and set a title for the chart\n",
    "pie_chartpd.set_ylabel('')\n",
    "pie_chartpd.set_title('Gender Proportion of Mice Tested')\n",
    "\n",
    "# Add a legend to the chart, make the axes equal, and display the chart\n",
    "pie_chartpd.legend(labels = mice_gender.index, loc = 'best')\n",
    "plt.axis('equal')\n",
    "plt.show()"
   ]
  },
  {
   "cell_type": "markdown",
   "metadata": {},
   "source": [
    "### Female vs. Male Pie Chart (Matplotlib)"
   ]
  },
  {
   "cell_type": "code",
   "execution_count": null,
   "metadata": {
    "scrolled": true
   },
   "outputs": [],
   "source": [
    "# Plot the Gender Data Series above using Matplotlib to show the gender distribution of mice tested\n",
    "colors = ['deeppink', 'royalblue']\n",
    "explode = [0.05,0]\n",
    "pie_chartplt = plt.pie(mice_gender, colors = colors, explode = explode,\n",
    "                       labels = ['',''], autopct=\"%0.2f%%\", shadow=True, startangle=90, textprops={'fontsize': 12})\n",
    "\n",
    "# Add a title to the chart\n",
    "plt.title('Gender Proportion of Mice Tested')\n",
    "\n",
    "# Add a legend to the chart, make the axes equal, and display the chart\n",
    "plt.legend(labels = mice_gender.index, loc = 'best')\n",
    "plt.axis('equal')\n",
    "plt.show()"
   ]
  },
  {
   "cell_type": "markdown",
   "metadata": {},
   "source": [
    "## Quartiles, Outliers, and Boxplots\n",
    "#### Calculate the final tumor volume of each mouse across four of the treatment regimens: Capomulin, Ramicane, Infubinol, and Ceftamin"
   ]
  },
  {
   "cell_type": "code",
   "execution_count": null,
   "metadata": {
    "scrolled": false
   },
   "outputs": [],
   "source": [
    "# Create a grouped DataFrame that shows the last (greatest) time point for each mouse\n",
    "timepoint_df = reduced_mice_df.groupby('Mouse ID')['Timepoint'].max()\n",
    "timepoint_df\n",
    "\n",
    "# Merge this grouped DataFrame with the original cleaned DataFrame\n",
    "timepoint_merged_df = pd.merge(reduced_mice_df, timepoint_df, on = ['Mouse ID','Timepoint'])\n",
    "timepoint_merged_df"
   ]
  },
  {
   "cell_type": "code",
   "execution_count": null,
   "metadata": {},
   "outputs": [],
   "source": [
    "# Create a list that holds the treatment names, as well as a second, empty list to hold the tumor volume data\n",
    "treatments = ['Capomulin', 'Ramicane', 'Infubinol', 'Ceftamin']\n",
    "treatment_volume = []"
   ]
  },
  {
   "cell_type": "code",
   "execution_count": null,
   "metadata": {
    "scrolled": false
   },
   "outputs": [],
   "source": [
    "# Loop through each drug in the treatment list, locating the rows in the merged DataFrame that correspond to each treatment and store the tumor volume value in a variable tumor_volume \n",
    "for treatment in treatments:\n",
    "    treatment_row = timepoint_merged_df.loc[timepoint_merged_df['Drug Regimen'] == treatment]\n",
    "    tumor_volume = treatment_row['Tumor Volume (mm3)']\n",
    "# Append the final tumor volumes for each drug to the empty list\n",
    "    treatment_volume.append(tumor_volume)"
   ]
  },
  {
   "cell_type": "markdown",
   "metadata": {},
   "source": [
    "### Capomulin Outliers"
   ]
  },
  {
   "cell_type": "code",
   "execution_count": null,
   "metadata": {},
   "outputs": [],
   "source": [
    "# Calculate quartiles and the IQR for Capomulin\n",
    "cap_quartiles = treatment_volume[0].quantile([0.25,0.5,0.75])\n",
    "cap_lowerq = cap_quartiles[0.25]\n",
    "cap_upperq = cap_quartiles[0.75]\n",
    "cap_iqr = cap_upperq - cap_lowerq\n",
    "cap_median = cap_quartiles [0.5]\n",
    "\n",
    "print(f'The lower quartile for {treatments[0]} is: {(round(cap_lowerq,4))}.')\n",
    "print(f'The upper quartile for {treatments[0]} is: {(round(cap_upperq,4))}.')\n",
    "print(f'The inter-quartile range for {treatments[0]} is: {(round(cap_iqr,4))}.')\n",
    "print(f'The median for {treatments[0]} is: {(round(cap_median,4))}.')\n",
    "\n",
    "# Calculate the upper and lower bounds for Capomulin\n",
    "cap_lower_bound = cap_lowerq - (1.5*cap_iqr)\n",
    "cap_upper_bound = cap_upperq + (1.5*cap_iqr)\n",
    "\n",
    "print(f'For {treatments[0]}: any tumor volume value below {(round(cap_lower_bound,4))} or above {(round(cap_upper_bound,4))} is an outlier')\n",
    "\n",
    "# Locate any Capomulin outliers in the DataFrame if any exist using df.loc\n",
    "cap_outliers = timepoint_merged_df.loc[((timepoint_merged_df['Drug Regimen'] == treatments[0]) & (timepoint_merged_df['Tumor Volume (mm3)'] < cap_lower_bound)) | \n",
    "                                       ((timepoint_merged_df['Drug Regimen'] == treatments[0]) & (timepoint_merged_df['Tumor Volume (mm3)'] > cap_upper_bound))]\n",
    "cap_outliers"
   ]
  },
  {
   "cell_type": "markdown",
   "metadata": {},
   "source": [
    "### Ramicane Outliers"
   ]
  },
  {
   "cell_type": "code",
   "execution_count": null,
   "metadata": {},
   "outputs": [],
   "source": [
    "# Calculate the quartiles and IQR for Ramicane\n",
    "ram_quartiles = treatment_volume[1].quantile([0.25,0.5,0.75])\n",
    "ram_lowerq = ram_quartiles[0.25]\n",
    "ram_upperq = ram_quartiles[0.75]\n",
    "ram_iqr = ram_upperq - ram_lowerq\n",
    "ram_median = ram_quartiles [0.5]\n",
    "\n",
    "print(f'The lower quartile for {treatments[1]} is: {(round(ram_lowerq,4))}.')\n",
    "print(f'The upper quartile for {treatments[1]} is: {(round(ram_upperq,4))}.')\n",
    "print(f'The inter-quartile range for {treatments[1]} is: {(round(ram_iqr,4))}.')\n",
    "print(f'The median for {treatments[1]} is: {(round(ram_median,4))}.')\n",
    "\n",
    "# Calculate the upper and lower bounds for Ramicane\n",
    "ram_lower_bound = ram_lowerq - (1.5*ram_iqr)\n",
    "ram_upper_bound = ram_upperq + (1.5*ram_iqr)\n",
    "\n",
    "print(f'For {treatments[1]}: any tumor volume value below {(round(ram_lower_bound,4))} or above {(round(ram_upper_bound,4))} is an outlier')\n",
    "\n",
    "# Locate any Ramicane outliers in the DataFrame if any exist using df.loc\n",
    "ram_outliers = timepoint_merged_df.loc[((timepoint_merged_df['Drug Regimen'] == treatments[1]) & (timepoint_merged_df['Tumor Volume (mm3)'] < ram_lower_bound)) | \n",
    "                                       ((timepoint_merged_df['Drug Regimen'] == treatments[1]) & (timepoint_merged_df['Tumor Volume (mm3)'] > ram_upper_bound))]\n",
    "ram_outliers"
   ]
  },
  {
   "cell_type": "markdown",
   "metadata": {},
   "source": [
    "### Infubinol Outliers"
   ]
  },
  {
   "cell_type": "code",
   "execution_count": null,
   "metadata": {
    "scrolled": true
   },
   "outputs": [],
   "source": [
    "# Calculate the quartiles and IQR for Infubinol\n",
    "inf_quartiles = treatment_volume[2].quantile([0.25,0.5,0.75])\n",
    "inf_lowerq = inf_quartiles[0.25]\n",
    "inf_upperq = inf_quartiles[0.75]\n",
    "inf_iqr = inf_upperq - inf_lowerq\n",
    "inf_median = inf_quartiles [0.5]\n",
    "\n",
    "print(f'The lower quartile for {treatments[2]} is: {(round(inf_lowerq,4))}.')\n",
    "print(f'The upper quartile for {treatments[2]} is: {(round(inf_upperq,4))}.')\n",
    "print(f'The inter-quartile range for {treatments[2]} is: {(round(inf_iqr,4))}.')\n",
    "print(f'The median for {treatments[2]} is: {(round(inf_median,4))}.')\n",
    "\n",
    "# Calculate the upper and lower bounds for Infubinol\n",
    "ram_lower_bound = ram_lowerq - (1.5*ram_iqr)\n",
    "inf_lower_bound = inf_lowerq - (1.5*inf_iqr)\n",
    "inf_upper_bound = inf_upperq + (1.5*inf_iqr)\n",
    "\n",
    "print(f'For {treatments[2]}: any tumor volume value below {(round(inf_lower_bound,4))} or above {(round(inf_upper_bound,4))} is an outlier')\n",
    "\n",
    "# Locate any Ramicane outliers in the DataFrame if any exist using df.loc\n",
    "inf_outliers = timepoint_merged_df.loc[((timepoint_merged_df['Drug Regimen'] == treatments[2]) & (timepoint_merged_df['Tumor Volume (mm3)'] < inf_lower_bound)) | \n",
    "                                       ((timepoint_merged_df['Drug Regimen'] == treatments[2]) & (timepoint_merged_df['Tumor Volume (mm3)'] > inf_upper_bound))]\n",
    "inf_outliers"
   ]
  },
  {
   "cell_type": "markdown",
   "metadata": {},
   "source": [
    "### Ceftamin Outliers"
   ]
  },
  {
   "cell_type": "code",
   "execution_count": null,
   "metadata": {},
   "outputs": [],
   "source": [
    "# Calculate the quartiles and IQR for Ceftamin\n",
    "ceft_quartiles = treatment_volume[3].quantile([0.25,0.5,0.75])\n",
    "ceft_lowerq = ceft_quartiles[0.25]\n",
    "ceft_upperq = ceft_quartiles[0.75]\n",
    "ceft_iqr = ceft_upperq - ceft_lowerq\n",
    "ceft_median = ceft_quartiles [0.5]\n",
    "\n",
    "print(f'The lower quartile for {treatments[3]} is: {(round(ceft_lowerq,4))}.')\n",
    "print(f'The upper quartile for {treatments[3]} is: {(round(ceft_upperq,4))}.')\n",
    "print(f'The inter-quartile range for {treatments[3]} is: {(round(ceft_iqr,4))}.')\n",
    "print(f'The median for {treatments[3]} is: {(round(ceft_median,4))}.')\n",
    "\n",
    "# Calculate the upper and lower bounds for Ceftamin\n",
    "ceft_lower_bound = ceft_lowerq - (1.5*ceft_iqr)\n",
    "ceft_upper_bound = ceft_upperq + (1.5*ceft_iqr)\n",
    "\n",
    "print(f'For {treatments[3]}: any tumor volume value below {(round(ceft_lower_bound,4))} or above {(round(ceft_upper_bound,4))} is an outlier')\n",
    "\n",
    "# Locate any Ceftamin outliers in the DataFrame if any exist using df.loc\n",
    "ceft_outliers = timepoint_merged_df.loc[((timepoint_merged_df['Drug Regimen'] == treatments[3]) & (timepoint_merged_df['Tumor Volume (mm3)'] < ceft_lower_bound)) | \n",
    "                                       ((timepoint_merged_df['Drug Regimen'] == treatments[3]) & (timepoint_merged_df['Tumor Volume (mm3)'] > ceft_upper_bound))]\n",
    "ceft_outliers"
   ]
  },
  {
   "cell_type": "markdown",
   "metadata": {},
   "source": [
    "### Boxplots"
   ]
  },
  {
   "cell_type": "code",
   "execution_count": null,
   "metadata": {},
   "outputs": [],
   "source": [
    "# Create boxplots for the final tumor volumes per drug regimen; display in the same chart\n",
    "fig, ax = plt.subplots()\n",
    "\n",
    "# Set chart title and axis labels\n",
    "ax.set_title('Final Tumor Volume per Drug Regimen')\n",
    "ax.set_xlabel('Drug Regimen')\n",
    "ax.set_ylabel('Final Tumor Volume (mm3)')\n",
    "\n",
    "# Change the size, color, and style of any outliers\n",
    "outliers = dict(markerfacecolor = 'lime', marker = '*', markersize = 10)\n",
    "\n",
    "# Plot the boxplots\n",
    "ax.boxplot(treatment_volume, labels = treatments, flierprops = outliers)\n",
    "plt.show()"
   ]
  },
  {
   "cell_type": "markdown",
   "metadata": {},
   "source": [
    "## Line Plot and Scatter Plot"
   ]
  },
  {
   "cell_type": "code",
   "execution_count": null,
   "metadata": {},
   "outputs": [],
   "source": [
    "# Locate all Mouse IDs that were treated with the Capomulin drug\n",
    "capomulin_mice = reduced_mice_df.loc[reduced_mice_df['Drug Regimen'] == 'Capomulin']\n",
    "capomulin_mice\n",
    "capomulin_mice['Mouse ID'].unique()"
   ]
  },
  {
   "cell_type": "code",
   "execution_count": null,
   "metadata": {},
   "outputs": [],
   "source": [
    "# Locate all rows of data for the mouse s185 to create a line plot\n",
    "capomulin_mice_data = capomulin_mice.loc[capomulin_mice['Mouse ID'] == 's185']\n",
    "capomulin_mice_data"
   ]
  },
  {
   "cell_type": "code",
   "execution_count": null,
   "metadata": {},
   "outputs": [],
   "source": [
    "# Create a line plot of Timepoint vs. Tumor Volume for mouse #s185\n",
    "x_axis_lp = capomulin_mice_data['Timepoint']\n",
    "y_axis_lp = capomulin_mice_data['Tumor Volume (mm3)']\n",
    "\n",
    "plt.plot(x_axis_lp, y_axis_lp, '--', label = 'Tumor Volume', marker = 'o', color = 'darkviolet')\n",
    "plt.xlabel('Timepoint')\n",
    "plt.ylabel('Tumor Volume (mm3)')\n",
    "plt.title('Mouse #s185 Tumor Volume vs. Timepoint', fontsize = 12)\n",
    "plt.show()"
   ]
  },
  {
   "cell_type": "code",
   "execution_count": null,
   "metadata": {
    "scrolled": true
   },
   "outputs": [],
   "source": [
    "# Create a scatter plot of tumor volume versus mouse weight for the Capomulin treatment regimen\n",
    "capomulin_mice_grouped = capomulin_mice.groupby('Mouse ID').mean()\n",
    "average_weight = capomulin_mice_grouped['Weight (g)']\n",
    "average_tumor_vol = capomulin_mice_grouped['Tumor Volume (mm3)']\n",
    "\n",
    "x_axis_sp = average_weight\n",
    "y_axis_sp = average_tumor_vol\n",
    "plt.scatter(x_axis_sp, y_axis_sp, marker = 'o', facecolor = 'blue', edgecolor = 'blue', s = x_axis_sp)\n",
    "plt.xlabel('Avg. Weight (g)')\n",
    "plt.ylabel('Avg. Tumor Volume (mm3)')\n",
    "plt.title('Mice Weight vs. Tumor Volume', fontsize = 14)\n",
    "plt.show()"
   ]
  },
  {
   "cell_type": "markdown",
   "metadata": {},
   "source": [
    "## Linear Regression"
   ]
  },
  {
   "cell_type": "code",
   "execution_count": null,
   "metadata": {},
   "outputs": [],
   "source": [
    "# Calculate the correlation coefficient for mouse weight and average tumor volume for the Capomulin regimen\n",
    "correlation = st.pearsonr(average_weight, average_tumor_vol)\n",
    "print(f'The correlation between average mouse weight and average tumor volume for the Capomulin regimen is {(round(correlation[0],2))}.')"
   ]
  },
  {
   "cell_type": "markdown",
   "metadata": {},
   "source": [
    "## Calculate the linear regression model for mouse weight and average tumor volume and plot the model on top of the previous scatter plot"
   ]
  },
  {
   "cell_type": "code",
   "execution_count": null,
   "metadata": {
    "scrolled": true
   },
   "outputs": [],
   "source": [
    "x_axis_lreg = average_weight\n",
    "y_axis_lreg = average_tumor_vol\n",
    "\n",
    "(slope, intercept, rvalue, pvalue, stderr) = linregress(x_axis_lreg, y_axis_lreg)\n",
    "regress_values = x_axis_lreg * slope + intercept\n",
    "line_eq = (f'y = {(round(slope,2))}x  + {(round(intercept,2))}')\n",
    "\n",
    "plt.scatter(x_axis_sp, y_axis_sp, marker = 'o', facecolor = 'blue', edgecolor = 'blue', s = x_axis_sp)\n",
    "plt.plot(x_axis_lreg, regress_values, 'g')\n",
    "plt.annotate(line_eq, (18,37), fontsize = 12, color = 'green', size = 14)\n",
    "\n",
    "plt.xlabel('Avg. Weight (g)')\n",
    "plt.ylabel('Avg. Tumor Volume (mm3)')\n",
    "plt.title('Mice Weight vs. Tumor Volume', fontsize = 14)\n",
    "plt.show()\n",
    "\n",
    "print(f'The r-square value is: {round(rvalue**2,2)}.')\n",
    "print(line_eq)"
   ]
  },
  {
   "cell_type": "code",
   "execution_count": null,
   "metadata": {},
   "outputs": [],
   "source": [
    "# HELLO WORLD"
   ]
  }
 ],
 "metadata": {
  "kernelspec": {
   "display_name": "Python [conda env:PythonData] *",
   "language": "python",
   "name": "conda-env-PythonData-py"
  },
  "language_info": {
   "codemirror_mode": {
    "name": "ipython",
    "version": 3
   },
   "file_extension": ".py",
   "mimetype": "text/x-python",
   "name": "python",
   "nbconvert_exporter": "python",
   "pygments_lexer": "ipython3",
   "version": "3.6.10"
  }
 },
 "nbformat": 4,
 "nbformat_minor": 4
}
